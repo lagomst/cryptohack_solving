{
 "cells": [
  {
   "cell_type": "markdown",
   "id": "5b45722b-7dad-490a-ad12-e4f401edf893",
   "metadata": {},
   "source": [
    "Phương pháp giải"
   ]
  },
  {
   "cell_type": "raw",
   "id": "bbda5691-1395-41af-bb52-b5fea7d2d6bd",
   "metadata": {},
   "source": [
    "Header file"
   ]
  },
  {
   "cell_type": "code",
   "execution_count": 1,
   "id": "694b927f-1bfc-4153-9c41-6a86149a8f96",
   "metadata": {},
   "outputs": [],
   "source": [
    "from pprint import pprint\n",
    "import random\n",
    "\n",
    "def gcd_euclid(big: int, small: int):\n",
    "    if big < small:\n",
    "        return gcd_euclid(small, big)\n",
    "    a = big\n",
    "    b = small\n",
    "    while (b > 0):\n",
    "        q = a // b\n",
    "        r = a % b\n",
    "        if r == 0:\n",
    "            break\n",
    "        a = b\n",
    "        b = r \n",
    "    return b\n",
    "\n",
    "def is_prime(n: int):\n",
    "    if n > 360_000_000_000:\n",
    "        return is_prime_miller_rabin(n)\n",
    "    return is_prime_naive(n)\n",
    "\n",
    "def is_prime_naive(n):\n",
    "    if (n == 1):\n",
    "        return False\n",
    "    if (n == 2 or n == 3):\n",
    "        return True\n",
    "    if (n % 2 == 0 or n % 3 == 0):\n",
    "        return False\n",
    "    # A prime that is not 2 or 3\n",
    "    # must be in a form of 6k + 1 or 6k + 5\n",
    "    d = 5\n",
    "    while(d * d <= n):\n",
    "        if (n % d == 0 or n % (d + 2) == 0): # check for 6k - 1 aka 6k + 5 and 6k + 1\n",
    "            return False\n",
    "        d += 6 # skipping 6k + 2/3/4 (6k + 5 is actually 6k - 1, and we start at 5 aka 6 * 1 - 1)\n",
    "    return True\n",
    "\n",
    "def is_prime_miller_rabin(n, rounds:int=500):\n",
    "    # Miller-Rabin can ensure if a number is not a prime (if False => confidence = 100%),\n",
    "    # but cannot ensure if a number is prime (if True => confidence != 100%)\n",
    "    if n % 2 == 0:\n",
    "        return False\n",
    "    # Factor two out\n",
    "    temp = n -1\n",
    "    s = 0\n",
    "    while (temp > 1 and temp % 2 == 0):\n",
    "        temp = temp // 2\n",
    "        s += 1\n",
    "    d = temp\n",
    "    # print(f\"{n-1=} {d=} {s=}\" )\n",
    "    # Hybrid approrach with some deterministic bases for number < 2^64 bits\n",
    "    bases = [2, 3, 5, 7, 11, 13, 17, 19, 23, 29, 31, 37, 44] \n",
    "    num_bases_to_generate = rounds - len(bases)\n",
    "    for _ in range(num_bases_to_generate):\n",
    "        # Append random bases into base\n",
    "        random_base = random.randint(2, n -2)\n",
    "        if random_base not in bases:\n",
    "            bases.append(random_base)\n",
    "    \n",
    "    # test for primes\n",
    "    for base in bases:\n",
    "        x = pow(base, d, n)\n",
    "        for i in range(s):\n",
    "            y = pow(x, 2, n)\n",
    "            if y == 1 and x != 1 and x != n-1:\n",
    "                return False\n",
    "            x = y\n",
    "        if y != 1:\n",
    "            return False\n",
    "    \n",
    "    return True\n",
    "\n",
    "def get_prime_factor(n: int) -> dict[int, int]:\n",
    "    temp = n\n",
    "    n_factors: dict[int, int] = {}\n",
    "    while (temp > 1):\n",
    "        # Check if it's prime \n",
    "        if is_prime(temp):\n",
    "            n_factors[temp] = 1\n",
    "            break\n",
    "        # Find a factor\n",
    "        while (True):\n",
    "            if temp < (2 << 32):\n",
    "                factor = smallest_prime_factor(temp)\n",
    "            else:\n",
    "                factor = polland_factor(temp)\n",
    "            if not factor:\n",
    "                pprint(\"Retrying the function...!\")\n",
    "            else:\n",
    "                break\n",
    "        # Factor that number out of temp\n",
    "        exp = 0\n",
    "        while(temp > 1 and temp % factor == 0):\n",
    "            temp //= factor\n",
    "            exp += 1\n",
    "        # Recursive factorization if the factor is not prime\n",
    "        if is_prime(factor):\n",
    "            n_factors[factor] = exp\n",
    "        else:\n",
    "            factor_primes = get_prime_factor(factor)\n",
    "            # Update primes inside factors accordingly\n",
    "            # to the number of factor's exponent\n",
    "            if exp > 1:\n",
    "                for prime in factor_primes.keys():\n",
    "                    factor_primes[prime] *= exp \n",
    "            n_factors.update(factor_primes)\n",
    "    return n_factors\n",
    "\n",
    "def smallest_prime_factor(n: int):\n",
    "    if n % 2 == 0:\n",
    "        return 2\n",
    "    if n % 3 == 0:\n",
    "        return 3\n",
    "    d = 5\n",
    "    while d * d <= n:\n",
    "        if n % d == 0:\n",
    "            return d\n",
    "        if (n % (d + 2)) == 0:\n",
    "            return d + 2\n",
    "        d += 6\n",
    "    return d\n",
    "\n",
    "def polland_factor(n :int):    \n",
    "    last_x = x = 2\n",
    "    last_y = y = x\n",
    "    d = 1\n",
    "    \n",
    "    b = random.randint(1, n-2)\n",
    "    pprint(\"Polland Rho algo!\")\n",
    "    pprint(f\"{n=}\\t{b=}\")\n",
    "    def g(a: int):\n",
    "        return (a * a + b) % n\n",
    "    \n",
    "    steps = 100\n",
    "    max_outer_loop = 1000000\n",
    "    found_d = False\n",
    "    for loop in range(max_outer_loop):\n",
    "        if (d != 1):\n",
    "            found_d = True\n",
    "            break\n",
    "        product = 1\n",
    "        steps_failed = False\n",
    "        for i in range(steps):\n",
    "            x = g(x) # turtle\n",
    "            y = g(g(y)) # hare\n",
    "            if x == y:\n",
    "                # Algo failed, fall back to step = 1\n",
    "                pprint(f\"Multiple step failed at {i}! Reverting to step 1!\")\n",
    "                steps_failed = True\n",
    "                break\n",
    "            product = (product * abs(x - y)) % n\n",
    "        \n",
    "        # Termination condition\n",
    "        if steps_failed and steps == 1:\n",
    "            pprint(\"x and y converge!\")\n",
    "            return None\n",
    "        \n",
    "        # Set step to 1\n",
    "        if steps != 1 and (steps_failed or loop >= max_outer_loop // 2):\n",
    "            print(\"Setting steps to 1...\")\n",
    "            steps = 1\n",
    "            x = last_x\n",
    "            y = last_y\n",
    "            continue\n",
    "\n",
    "        last_x = x\n",
    "        last_y = y\n",
    "        \n",
    "        d = gcd_euclid(product, n)\n",
    "    \n",
    "    if d == n:\n",
    "        pprint(\"d meets n!\")\n",
    "        return None\n",
    "    if not found_d:\n",
    "        pprint(\"Maximum global step reached!\")\n",
    "        return None\n",
    "    pprint(f\"Found {d=}\")\n",
    "    return d"
   ]
  },
  {
   "cell_type": "raw",
   "id": "6b8a529a-e9d2-4862-9203-dbf2be52eb9f",
   "metadata": {},
   "source": [
    "Output need to be solved"
   ]
  },
  {
   "cell_type": "code",
   "execution_count": 1,
   "id": "9b03fd0a-e592-4643-a18f-eee3f2460fe4",
   "metadata": {},
   "outputs": [],
   "source": [
    "a = 1\n",
    "b = 7\n",
    "p = 81663996540811672901764249733343363790991183353803305739092974199965546219729\n",
    "G = (14023374736200111073976017545954000619736741127496973904317708826835398305431, 23173384182409394365116200040829680541979866476670477159886520495530923549144)\n",
    "P = (45277951688968912485631557795066607843633896482130484276521452596515645125170, 33416418291776817124002088109454937261688060362650609033690500364258401702752)\n",
    "ciphertext = '44af53c95092c86c04b67358aad3911282347862fec02f8943ea2eb5297780a7098faef27b2d2dbab7cf29bec5e32adcc7be6f4b57370aa2b6f6d1eafc5c3f3a07db1162d00b0037b757450b6fd405e0'\n",
    "iv = '29d6bba244e66a562969a6dae8e61449'\n",
    "\n",
    "E = EllipticCurve(GF(p), [a, b])\n",
    "G = E(G)\n",
    "\n",
    "n = G.order()"
   ]
  },
  {
   "cell_type": "raw",
   "id": "a287a46d-0d30-4268-ad9b-bc98f0090b69",
   "metadata": {},
   "source": [
    "p có thể factor thành 1872 x 43623929776074611592822782977213335358435461193270996655498383653827749049, prime sau có kích thước 10^77"
   ]
  },
  {
   "cell_type": "code",
   "execution_count": 2,
   "id": "eed6b1f9-1905-49ba-b518-2d7a03299106",
   "metadata": {},
   "outputs": [
    {
     "ename": "NameError",
     "evalue": "name 'get_prime_factor' is not defined",
     "output_type": "error",
     "traceback": [
      "\u001b[0;31m---------------------------------------------------------------------------\u001b[0m",
      "\u001b[0;31mNameError\u001b[0m                                 Traceback (most recent call last)",
      "Cell \u001b[0;32mIn[2], line 1\u001b[0m\n\u001b[0;32m----> 1\u001b[0m \u001b[38;5;28mprint\u001b[39m(\u001b[43mget_prime_factor\u001b[49m(p\u001b[38;5;241m-\u001b[39mInteger(\u001b[38;5;241m1\u001b[39m)))\n",
      "\u001b[0;31mNameError\u001b[0m: name 'get_prime_factor' is not defined"
     ]
    }
   ],
   "source": [
    "print(get_prime_factor(p-1))"
   ]
  },
  {
   "cell_type": "raw",
   "id": "8a9d6e40-b897-4af7-a8c7-b0b2d440ac30",
   "metadata": {},
   "source": [
    "Order của G trên EC cũng đồng thời rất là lớn"
   ]
  },
  {
   "cell_type": "code",
   "execution_count": 3,
   "id": "5cf3aa79-c196-43a4-b4ee-c344c75590aa",
   "metadata": {},
   "outputs": [
    {
     "name": "stdout",
     "output_type": "stream",
     "text": [
      "27221332180270557633921416577781121263650323017173283011972894350705530180203\n"
     ]
    }
   ],
   "source": [
    "print(n)"
   ]
  },
  {
   "cell_type": "code",
   "execution_count": 4,
   "id": "6defc663-afb6-4c7e-abbd-cc59c9a3b536",
   "metadata": {},
   "outputs": [
    {
     "name": "stdout",
     "output_type": "stream",
     "text": [
      "['44af53c95092c86c04b67358aad39112', '82347862fec02f8943ea2eb5297780a7', '098faef27b2d2dbab7cf29bec5e32adc', 'c7be6f4b57370aa2b6f6d1eafc5c3f3a', '07db1162d00b0037b757450b6fd405e0']\n"
     ]
    }
   ],
   "source": [
    "block_size = 32\n",
    "cipherhex = ciphertext\n",
    "cipher_blocks = [cipherhex[i:i+block_size] for i in range(0, len(ciphertext), block_size)]\n",
    "print(cipher_blocks)"
   ]
  },
  {
   "cell_type": "code",
   "execution_count": 11,
   "id": "4614f417-5560-4c49-bee6-90730f13f921",
   "metadata": {},
   "outputs": [
    {
     "name": "stdout",
     "output_type": "stream",
     "text": [
      "2^2 * 5\n"
     ]
    }
   ],
   "source": [
    "F = factor(20)\n",
    "print(F)"
   ]
  },
  {
   "cell_type": "code",
   "execution_count": null,
   "id": "4eecab5f-6eb6-4b1a-9756-a996558a58de",
   "metadata": {},
   "outputs": [],
   "source": []
  }
 ],
 "metadata": {
  "kernelspec": {
   "display_name": "SageMath 10.7",
   "language": "sage",
   "name": "sagemath"
  },
  "language_info": {
   "codemirror_mode": {
    "name": "ipython",
    "version": 3
   },
   "file_extension": ".py",
   "mimetype": "text/x-python",
   "name": "python",
   "nbconvert_exporter": "python",
   "pygments_lexer": "ipython3",
   "version": "3.12.12"
  }
 },
 "nbformat": 4,
 "nbformat_minor": 5
}
